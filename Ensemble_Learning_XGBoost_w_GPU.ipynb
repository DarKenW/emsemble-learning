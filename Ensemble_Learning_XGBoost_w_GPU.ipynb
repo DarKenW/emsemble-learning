{
  "nbformat": 4,
  "nbformat_minor": 0,
  "metadata": {
    "colab": {
      "name": "Ensemble Learning - XGBoost w/ GPU.ipynb",
      "provenance": [],
      "collapsed_sections": []
    },
    "kernelspec": {
      "name": "python3",
      "display_name": "Python 3"
    },
    "accelerator": "GPU"
  },
  "cells": [
    {
      "cell_type": "markdown",
      "metadata": {
        "id": "GSRR0bFfeb0u"
      },
      "source": [
        "# Load Data"
      ]
    },
    {
      "cell_type": "code",
      "metadata": {
        "colab": {
          "base_uri": "https://localhost:8080/"
        },
        "id": "wuNEkXiIgG9r",
        "outputId": "09d96671-60dd-4b9b-bbfd-668076751676"
      },
      "source": [
        "#!pip install ipython-autotime\r\n",
        "%load_ext autotime"
      ],
      "execution_count": 4,
      "outputs": [
        {
          "output_type": "stream",
          "text": [
            "The autotime extension is already loaded. To reload it, use:\n",
            "  %reload_ext autotime\n",
            "time: 1.6 ms (started: 2021-03-07 16:29:24 +00:00)\n"
          ],
          "name": "stdout"
        }
      ]
    },
    {
      "cell_type": "code",
      "metadata": {
        "colab": {
          "base_uri": "https://localhost:8080/"
        },
        "id": "19FDsfNMuziX",
        "outputId": "d4ae1b81-382a-4e42-d1b4-b2a3ba368925"
      },
      "source": [
        "import numpy as np\r\n",
        "import pandas as pd\r\n",
        "import matplotlib.pyplot as plt\r\n",
        "import seaborn as sns\r\n",
        "plt.style.use('ggplot')\r\n",
        "# load the dataset\r\n",
        "column_names = ['age',\r\n",
        "                'workclass',\r\n",
        "                'fnlwgt',\r\n",
        "                'education',\r\n",
        "                'education-num',\r\n",
        "                'marital-status',\r\n",
        "                'occupation',\r\n",
        "                'relationship',\r\n",
        "                'race',\r\n",
        "                'sex',\r\n",
        "                'capital-gain',\r\n",
        "                'capital-loss',\r\n",
        "                'hours-per-week',\r\n",
        "                'native-country',\r\n",
        "                'high_income'\r\n",
        "                ]\r\n",
        "\r\n",
        "# df_purchase = pd.read_csv('purchase data.csv')\r\n",
        "\r\n",
        "from google.colab import drive\r\n",
        "drive.mount('/content/drive')\r\n",
        "\r\n",
        "# Load the data, contained in the segmentation data csv file.\r\n",
        "GD_PATH = '/content/drive/MyDrive/扬FAANG起航/单项准备/xgboost/'\r\n",
        "#df_purchase = pd.read_csv(GD_PATH+'purchase data.csv', index_col = 0)\r\n",
        "\r\n",
        "income = pd.read_csv(GD_PATH+\"adult.data.csv\", sep=\",\", names = column_names).head(1000)\r\n",
        "income.info()"
      ],
      "execution_count": 5,
      "outputs": [
        {
          "output_type": "stream",
          "text": [
            "Mounted at /content/drive\n",
            "<class 'pandas.core.frame.DataFrame'>\n",
            "RangeIndex: 1000 entries, 0 to 999\n",
            "Data columns (total 15 columns):\n",
            " #   Column          Non-Null Count  Dtype \n",
            "---  ------          --------------  ----- \n",
            " 0   age             1000 non-null   int64 \n",
            " 1   workclass       1000 non-null   object\n",
            " 2   fnlwgt          1000 non-null   int64 \n",
            " 3   education       1000 non-null   object\n",
            " 4   education-num   1000 non-null   int64 \n",
            " 5   marital-status  1000 non-null   object\n",
            " 6   occupation      1000 non-null   object\n",
            " 7   relationship    1000 non-null   object\n",
            " 8   race            1000 non-null   object\n",
            " 9   sex             1000 non-null   object\n",
            " 10  capital-gain    1000 non-null   int64 \n",
            " 11  capital-loss    1000 non-null   int64 \n",
            " 12  hours-per-week  1000 non-null   int64 \n",
            " 13  native-country  1000 non-null   object\n",
            " 14  high_income     1000 non-null   object\n",
            "dtypes: int64(6), object(9)\n",
            "memory usage: 117.3+ KB\n",
            "time: 25.3 s (started: 2021-03-07 16:29:24 +00:00)\n"
          ],
          "name": "stdout"
        }
      ]
    },
    {
      "cell_type": "code",
      "metadata": {
        "id": "iHdkn6jDhsYR"
      },
      "source": [
        "from sklearn.base import BaseEstimator\r\n",
        "from sklearn.base import TransformerMixin\r\n",
        "from sklearn.preprocessing import StandardScaler\r\n",
        "from sklearn.preprocessing import FunctionTransformer\r\n",
        "from sklearn.pipeline import Pipeline\r\n",
        "from sklearn.pipeline import FeatureUnion\r\n",
        "from sklearn.model_selection import train_test_split\r\n",
        "from sklearn.model_selection import cross_val_score\r\n",
        "from sklearn.model_selection import KFold\r\n",
        "from sklearn.model_selection import StratifiedKFold\r\n",
        "from sklearn.model_selection import RandomizedSearchCV\r\n",
        "from sklearn.metrics import make_scorer\r\n",
        "from sklearn.metrics import accuracy_score\r\n",
        "from sklearn.metrics import classification_report\r\n",
        "from sklearn.metrics import confusion_matrix\r\n",
        "from sklearn.tree import DecisionTreeClassifier\r\n",
        "from sklearn.ensemble import RandomForestClassifier\r\n",
        "from sklearn.ensemble import BaggingClassifier"
      ],
      "execution_count": null,
      "outputs": []
    },
    {
      "cell_type": "code",
      "metadata": {
        "colab": {
          "base_uri": "https://localhost:8080/",
          "height": 742
        },
        "id": "RBG4Lp5IvOUv",
        "outputId": "cf239c1b-a300-4b9f-955a-bcc2190988d3"
      },
      "source": [
        "income"
      ],
      "execution_count": 7,
      "outputs": [
        {
          "output_type": "execute_result",
          "data": {
            "text/html": [
              "<div>\n",
              "<style scoped>\n",
              "    .dataframe tbody tr th:only-of-type {\n",
              "        vertical-align: middle;\n",
              "    }\n",
              "\n",
              "    .dataframe tbody tr th {\n",
              "        vertical-align: top;\n",
              "    }\n",
              "\n",
              "    .dataframe thead th {\n",
              "        text-align: right;\n",
              "    }\n",
              "</style>\n",
              "<table border=\"1\" class=\"dataframe\">\n",
              "  <thead>\n",
              "    <tr style=\"text-align: right;\">\n",
              "      <th></th>\n",
              "      <th>age</th>\n",
              "      <th>workclass</th>\n",
              "      <th>fnlwgt</th>\n",
              "      <th>education</th>\n",
              "      <th>education-num</th>\n",
              "      <th>marital-status</th>\n",
              "      <th>occupation</th>\n",
              "      <th>relationship</th>\n",
              "      <th>race</th>\n",
              "      <th>sex</th>\n",
              "      <th>capital-gain</th>\n",
              "      <th>capital-loss</th>\n",
              "      <th>hours-per-week</th>\n",
              "      <th>native-country</th>\n",
              "      <th>high_income</th>\n",
              "    </tr>\n",
              "  </thead>\n",
              "  <tbody>\n",
              "    <tr>\n",
              "      <th>0</th>\n",
              "      <td>39</td>\n",
              "      <td>State-gov</td>\n",
              "      <td>77516</td>\n",
              "      <td>Bachelors</td>\n",
              "      <td>13</td>\n",
              "      <td>Never-married</td>\n",
              "      <td>Adm-clerical</td>\n",
              "      <td>Not-in-family</td>\n",
              "      <td>White</td>\n",
              "      <td>Male</td>\n",
              "      <td>2174</td>\n",
              "      <td>0</td>\n",
              "      <td>40</td>\n",
              "      <td>United-States</td>\n",
              "      <td>&lt;=50K</td>\n",
              "    </tr>\n",
              "    <tr>\n",
              "      <th>1</th>\n",
              "      <td>50</td>\n",
              "      <td>Self-emp-not-inc</td>\n",
              "      <td>83311</td>\n",
              "      <td>Bachelors</td>\n",
              "      <td>13</td>\n",
              "      <td>Married-civ-spouse</td>\n",
              "      <td>Exec-managerial</td>\n",
              "      <td>Husband</td>\n",
              "      <td>White</td>\n",
              "      <td>Male</td>\n",
              "      <td>0</td>\n",
              "      <td>0</td>\n",
              "      <td>13</td>\n",
              "      <td>United-States</td>\n",
              "      <td>&lt;=50K</td>\n",
              "    </tr>\n",
              "    <tr>\n",
              "      <th>2</th>\n",
              "      <td>38</td>\n",
              "      <td>Private</td>\n",
              "      <td>215646</td>\n",
              "      <td>HS-grad</td>\n",
              "      <td>9</td>\n",
              "      <td>Divorced</td>\n",
              "      <td>Handlers-cleaners</td>\n",
              "      <td>Not-in-family</td>\n",
              "      <td>White</td>\n",
              "      <td>Male</td>\n",
              "      <td>0</td>\n",
              "      <td>0</td>\n",
              "      <td>40</td>\n",
              "      <td>United-States</td>\n",
              "      <td>&lt;=50K</td>\n",
              "    </tr>\n",
              "    <tr>\n",
              "      <th>3</th>\n",
              "      <td>53</td>\n",
              "      <td>Private</td>\n",
              "      <td>234721</td>\n",
              "      <td>11th</td>\n",
              "      <td>7</td>\n",
              "      <td>Married-civ-spouse</td>\n",
              "      <td>Handlers-cleaners</td>\n",
              "      <td>Husband</td>\n",
              "      <td>Black</td>\n",
              "      <td>Male</td>\n",
              "      <td>0</td>\n",
              "      <td>0</td>\n",
              "      <td>40</td>\n",
              "      <td>United-States</td>\n",
              "      <td>&lt;=50K</td>\n",
              "    </tr>\n",
              "    <tr>\n",
              "      <th>4</th>\n",
              "      <td>28</td>\n",
              "      <td>Private</td>\n",
              "      <td>338409</td>\n",
              "      <td>Bachelors</td>\n",
              "      <td>13</td>\n",
              "      <td>Married-civ-spouse</td>\n",
              "      <td>Prof-specialty</td>\n",
              "      <td>Wife</td>\n",
              "      <td>Black</td>\n",
              "      <td>Female</td>\n",
              "      <td>0</td>\n",
              "      <td>0</td>\n",
              "      <td>40</td>\n",
              "      <td>Cuba</td>\n",
              "      <td>&lt;=50K</td>\n",
              "    </tr>\n",
              "    <tr>\n",
              "      <th>...</th>\n",
              "      <td>...</td>\n",
              "      <td>...</td>\n",
              "      <td>...</td>\n",
              "      <td>...</td>\n",
              "      <td>...</td>\n",
              "      <td>...</td>\n",
              "      <td>...</td>\n",
              "      <td>...</td>\n",
              "      <td>...</td>\n",
              "      <td>...</td>\n",
              "      <td>...</td>\n",
              "      <td>...</td>\n",
              "      <td>...</td>\n",
              "      <td>...</td>\n",
              "      <td>...</td>\n",
              "    </tr>\n",
              "    <tr>\n",
              "      <th>995</th>\n",
              "      <td>56</td>\n",
              "      <td>Private</td>\n",
              "      <td>112840</td>\n",
              "      <td>HS-grad</td>\n",
              "      <td>9</td>\n",
              "      <td>Married-civ-spouse</td>\n",
              "      <td>Exec-managerial</td>\n",
              "      <td>Husband</td>\n",
              "      <td>White</td>\n",
              "      <td>Male</td>\n",
              "      <td>0</td>\n",
              "      <td>0</td>\n",
              "      <td>55</td>\n",
              "      <td>United-States</td>\n",
              "      <td>&gt;50K</td>\n",
              "    </tr>\n",
              "    <tr>\n",
              "      <th>996</th>\n",
              "      <td>45</td>\n",
              "      <td>Private</td>\n",
              "      <td>89325</td>\n",
              "      <td>Masters</td>\n",
              "      <td>14</td>\n",
              "      <td>Divorced</td>\n",
              "      <td>Prof-specialty</td>\n",
              "      <td>Not-in-family</td>\n",
              "      <td>White</td>\n",
              "      <td>Male</td>\n",
              "      <td>0</td>\n",
              "      <td>0</td>\n",
              "      <td>45</td>\n",
              "      <td>United-States</td>\n",
              "      <td>&lt;=50K</td>\n",
              "    </tr>\n",
              "    <tr>\n",
              "      <th>997</th>\n",
              "      <td>48</td>\n",
              "      <td>Federal-gov</td>\n",
              "      <td>33109</td>\n",
              "      <td>Bachelors</td>\n",
              "      <td>13</td>\n",
              "      <td>Divorced</td>\n",
              "      <td>Exec-managerial</td>\n",
              "      <td>Unmarried</td>\n",
              "      <td>White</td>\n",
              "      <td>Male</td>\n",
              "      <td>0</td>\n",
              "      <td>0</td>\n",
              "      <td>58</td>\n",
              "      <td>United-States</td>\n",
              "      <td>&gt;50K</td>\n",
              "    </tr>\n",
              "    <tr>\n",
              "      <th>998</th>\n",
              "      <td>40</td>\n",
              "      <td>Private</td>\n",
              "      <td>82465</td>\n",
              "      <td>Some-college</td>\n",
              "      <td>10</td>\n",
              "      <td>Married-civ-spouse</td>\n",
              "      <td>Machine-op-inspct</td>\n",
              "      <td>Husband</td>\n",
              "      <td>White</td>\n",
              "      <td>Male</td>\n",
              "      <td>2580</td>\n",
              "      <td>0</td>\n",
              "      <td>40</td>\n",
              "      <td>United-States</td>\n",
              "      <td>&lt;=50K</td>\n",
              "    </tr>\n",
              "    <tr>\n",
              "      <th>999</th>\n",
              "      <td>39</td>\n",
              "      <td>Self-emp-inc</td>\n",
              "      <td>329980</td>\n",
              "      <td>Bachelors</td>\n",
              "      <td>13</td>\n",
              "      <td>Married-civ-spouse</td>\n",
              "      <td>Exec-managerial</td>\n",
              "      <td>Husband</td>\n",
              "      <td>White</td>\n",
              "      <td>Male</td>\n",
              "      <td>15024</td>\n",
              "      <td>0</td>\n",
              "      <td>50</td>\n",
              "      <td>United-States</td>\n",
              "      <td>&gt;50K</td>\n",
              "    </tr>\n",
              "  </tbody>\n",
              "</table>\n",
              "<p>1000 rows × 15 columns</p>\n",
              "</div>"
            ],
            "text/plain": [
              "     age          workclass  fnlwgt  ... hours-per-week  native-country high_income\n",
              "0     39          State-gov   77516  ...             40   United-States       <=50K\n",
              "1     50   Self-emp-not-inc   83311  ...             13   United-States       <=50K\n",
              "2     38            Private  215646  ...             40   United-States       <=50K\n",
              "3     53            Private  234721  ...             40   United-States       <=50K\n",
              "4     28            Private  338409  ...             40            Cuba       <=50K\n",
              "..   ...                ...     ...  ...            ...             ...         ...\n",
              "995   56            Private  112840  ...             55   United-States        >50K\n",
              "996   45            Private   89325  ...             45   United-States       <=50K\n",
              "997   48        Federal-gov   33109  ...             58   United-States        >50K\n",
              "998   40            Private   82465  ...             40   United-States       <=50K\n",
              "999   39       Self-emp-inc  329980  ...             50   United-States        >50K\n",
              "\n",
              "[1000 rows x 15 columns]"
            ]
          },
          "metadata": {
            "tags": []
          },
          "execution_count": 7
        },
        {
          "output_type": "stream",
          "text": [
            "time: 55.5 ms (started: 2021-03-07 16:30:22 +00:00)\n"
          ],
          "name": "stdout"
        }
      ]
    },
    {
      "cell_type": "code",
      "metadata": {
        "id": "T2bVfLTzqgNB",
        "colab": {
          "base_uri": "https://localhost:8080/"
        },
        "outputId": "5eb57984-379e-4eee-e1fc-bd2affe35cf8"
      },
      "source": [
        ""
      ],
      "execution_count": 8,
      "outputs": [
        {
          "output_type": "stream",
          "text": [
            "time: 546 ms (started: 2021-03-07 16:30:23 +00:00)\n"
          ],
          "name": "stdout"
        }
      ]
    },
    {
      "cell_type": "code",
      "metadata": {
        "id": "Uqg2zo2lwzwD",
        "colab": {
          "base_uri": "https://localhost:8080/"
        },
        "outputId": "73b34d22-0ec6-490a-f6d8-40186fa0a2c6"
      },
      "source": [
        "# Custom Transformer that extracts columns passed as argument\r\n",
        "class FeatureSelector(BaseEstimator, TransformerMixin):\r\n",
        "    #Class Constructor \r\n",
        "    def __init__(self, feature_names):\r\n",
        "        self.feature_names = feature_names\r\n",
        "    #Return self nothing else to do here    \r\n",
        "    def fit(self, X, y = None):\r\n",
        "        return self\r\n",
        "    #Method that describes what we need this transformer to do\r\n",
        "    def transform(self, X, y = None):\r\n",
        "        return X[self.feature_names]\r\n",
        "# converts certain features to categorical\r\n",
        "class CategoricalTransformer( BaseEstimator, TransformerMixin ):\r\n",
        "    #Class constructor method that takes a boolean as its argument\r\n",
        "    def __init__(self, new_features=True):\r\n",
        "        self.new_features = new_features\r\n",
        "    #Return self nothing else to do here    \r\n",
        "    def fit( self, X, y = None ):\r\n",
        "        return self\r\n",
        "    #Transformer method we wrote for this transformer \r\n",
        "    def transform(self, X , y = None ):\r\n",
        "        df = X.copy()\r\n",
        "        if self.new_features:\r\n",
        "            # Treat ? workclass as unknown\r\n",
        "            df['workclass']= df['workclass'].replace('?','Unknown') \r\n",
        "            # Two many category level, convert just US and Non-US\r\n",
        "            df.loc[df['native-country']!=' United-States','native-country'] = 'non_usa'\r\n",
        "            df.loc[df['native-country']==' United-States','native-country'] = 'usa'\r\n",
        "        # convert columns to categorical\r\n",
        "        for name in df.columns.to_list():\r\n",
        "            col = pd.Categorical(df[name])\r\n",
        "            df[name] = col.codes\r\n",
        "        # returns numpy array\r\n",
        "        return df"
      ],
      "execution_count": 9,
      "outputs": [
        {
          "output_type": "stream",
          "text": [
            "time: 27 ms (started: 2021-03-07 16:30:24 +00:00)\n"
          ],
          "name": "stdout"
        }
      ]
    },
    {
      "cell_type": "code",
      "metadata": {
        "id": "QRBb_tkEwzsg"
      },
      "source": [
        "# Create the X feature matrix and the y target vector\r\n",
        "X = income.drop(labels=\"high_income\", axis=1)\r\n",
        "y = income[\"high_income\"]\r\n",
        "# the only step necessary to be done outside of pipeline\r\n",
        "# convert the target column to categorical\r\n",
        "col = pd.Categorical(y)\r\n",
        "y = pd.Series(col.codes)\r\n",
        "# global variables\r\n",
        "seed = 108"
      ],
      "execution_count": 11,
      "outputs": []
    },
    {
      "cell_type": "code",
      "metadata": {
        "id": "uxM0YZGlwzpz"
      },
      "source": [
        "# get the categorical feature names\r\n",
        "categorical_features = X.select_dtypes(\"object\").columns.to_list()\r\n",
        "# get the numerical feature names\r\n",
        "numerical_features = X.select_dtypes(\"int64\").columns.to_list()\r\n",
        "\r\n",
        "# create the steps for the categorical pipeline\r\n",
        "categorical_steps = [\r\n",
        "    ('cat_selector', FeatureSelector(categorical_features)),\r\n",
        "    ('cat_transformer', CategoricalTransformer())\r\n",
        "]\r\n",
        "\r\n",
        "# create the steps for the numerical pipeline\r\n",
        "numerical_steps = [\r\n",
        "    ('num_selector', FeatureSelector(numerical_features)),\r\n",
        "    ('std_scaler', StandardScaler()),\r\n",
        "]\r\n",
        "\r\n",
        "# create the 2 pipelines with the respective steps\r\n",
        "categorical_pipeline = Pipeline(categorical_steps)\r\n",
        "numerical_pipeline = Pipeline(numerical_steps)\r\n",
        "\r\n",
        "pipeline_list = [\r\n",
        "    ('categorical_pipeline', categorical_pipeline),\r\n",
        "    ('numerical_pipeline', numerical_pipeline)\r\n",
        "]\r\n",
        "# Combining the 2 pieplines horizontally into one full pipeline \r\n",
        "preprocessing_pipeline =FeatureUnion(transformer_list=pipeline_list)"
      ],
      "execution_count": 12,
      "outputs": []
    },
    {
      "cell_type": "code",
      "metadata": {
        "id": "5N-KwJT5wzj_"
      },
      "source": [
        "# split-out train/validation and test dataset\r\n",
        "X_train, X_test, y_train, y_test = train_test_split(X, y, test_size=0.20, random_state=seed, shuffle=True, stratify=y)"
      ],
      "execution_count": 13,
      "outputs": []
    },
    {
      "cell_type": "code",
      "metadata": {
        "id": "AjAAmvJjwzhS"
      },
      "source": [
        "# we pass the preprocessing pipeline as a step to the full pipeline\r\n",
        "full_pipeline_steps = [\r\n",
        "    ('preprocessing_pipeline', preprocessing_pipeline),\r\n",
        "    ('model', DecisionTreeClassifier(random_state=seed))\r\n",
        "]\r\n",
        "# create the full pipeline object\r\n",
        "full_pipeline = Pipeline(steps=full_pipeline_steps)"
      ],
      "execution_count": 14,
      "outputs": []
    },
    {
      "cell_type": "code",
      "metadata": {
        "colab": {
          "base_uri": "https://localhost:8080/"
        },
        "id": "Sv6e7hiUwzee",
        "outputId": "e497e6ee-dbe1-4ea7-ab85-5b9a847e10df"
      },
      "source": [
        "# Create the grid search parameter grid and scoring funcitons\r\n",
        "param_grid = {\r\n",
        "    \"model\": [DecisionTreeClassifier(random_state=seed)],\r\n",
        "    \"model__criterion\": [\"gini\",\"entropy\"],\r\n",
        "    \"model__splitter\": [\"best\",\"random\"],\r\n",
        "    \"model__max_leaf_nodes\": [16, 64, 128, 256],\r\n",
        "    \"model__max_depth\": np.linspace(1, 32, 32)\r\n",
        "}\r\n",
        "\r\n",
        "scoring = {\r\n",
        "    'AUC': 'roc_auc', \r\n",
        "    'Accuracy': make_scorer(accuracy_score)\r\n",
        "}\r\n",
        "\r\n",
        "# create the Kfold object\r\n",
        "num_folds = 10\r\n",
        "kfold = StratifiedKFold(n_splits=num_folds, random_state=seed)\r\n",
        "# create the grid search object with the full pipeline as estimator\r\n",
        "n_iter=50\r\n",
        "grid = RandomizedSearchCV(\r\n",
        "    estimator=full_pipeline, \r\n",
        "    param_distributions=param_grid,\r\n",
        "    cv=kfold,\r\n",
        "    scoring=scoring,\r\n",
        "    n_jobs=-1,\r\n",
        "    n_iter=n_iter,\r\n",
        "    refit=\"AUC\"\r\n",
        ")\r\n",
        "\r\n",
        "# fit grid search\r\n",
        "best_model = grid.fit(X_train,y_train)"
      ],
      "execution_count": 15,
      "outputs": [
        {
          "output_type": "stream",
          "text": [
            "/usr/local/lib/python3.7/dist-packages/sklearn/model_selection/_split.py:296: FutureWarning: Setting a random_state has no effect since shuffle is False. This will raise an error in 0.24. You should leave random_state to its default (None), or set shuffle=True.\n",
            "  FutureWarning\n"
          ],
          "name": "stderr"
        }
      ]
    },
    {
      "cell_type": "code",
      "metadata": {
        "colab": {
          "base_uri": "https://localhost:8080/"
        },
        "id": "ZfvSQ9YRwzbt",
        "outputId": "4504795c-cdb0-4bc6-b4ec-6a7650fe54ad"
      },
      "source": [
        "# final Decision Tree model\r\n",
        "pred_test = best_model.predict(X_test)\r\n",
        "pred_train = best_model.predict(X_train)\r\n",
        "print('Train Accuracy: ', accuracy_score(y_train, pred_train))\r\n",
        "print('Test Accuraccy: ', accuracy_score(y_test, pred_test))\r\n",
        "print('\\nConfusion Matrix:')\r\n",
        "print(confusion_matrix(y_test,pred_test))\r\n",
        "print('\\nClassification Report:')\r\n",
        "print(classification_report(y_test,pred_test))"
      ],
      "execution_count": 16,
      "outputs": [
        {
          "output_type": "stream",
          "text": [
            "Train Accuracy:  0.8675\n",
            "Test Accuraccy:  0.795\n",
            "\n",
            "Confusion Matrix:\n",
            "[[137  17]\n",
            " [ 24  22]]\n",
            "\n",
            "Classification Report:\n",
            "              precision    recall  f1-score   support\n",
            "\n",
            "           0       0.85      0.89      0.87       154\n",
            "           1       0.56      0.48      0.52        46\n",
            "\n",
            "    accuracy                           0.80       200\n",
            "   macro avg       0.71      0.68      0.69       200\n",
            "weighted avg       0.78      0.80      0.79       200\n",
            "\n"
          ],
          "name": "stdout"
        }
      ]
    },
    {
      "cell_type": "code",
      "metadata": {
        "id": "w2AZUoTpwzZM"
      },
      "source": [
        ""
      ],
      "execution_count": 16,
      "outputs": []
    },
    {
      "cell_type": "code",
      "metadata": {
        "colab": {
          "base_uri": "https://localhost:8080/"
        },
        "id": "S5dcCW6kwzWZ",
        "outputId": "1efee2a0-2581-42d7-8880-3c2c3037d2aa"
      },
      "source": [
        "# we pass the preprocessing pipeline as a step to the full pipeline\r\n",
        "full_pipeline_steps = [\r\n",
        "    ('preprocessing_pipeline', preprocessing_pipeline),\r\n",
        "    ('model', BaggingClassifier(\r\n",
        "        DecisionTreeClassifier(max_features=\"auto\", splitter=\"random\", max_leaf_nodes=128, random_state=seed),\r\n",
        "        random_state=seed\r\n",
        "    ))\r\n",
        "]\r\n",
        "# create the full pipeline object\r\n",
        "full_pipeline = Pipeline(steps=full_pipeline_steps)\r\n",
        "# Create the grid search parameter grid\r\n",
        "param_grid = {\r\n",
        "    \"model\": [BaggingClassifier(\r\n",
        "        DecisionTreeClassifier(max_features=\"auto\", splitter=\"random\", max_leaf_nodes=128, random_state=seed),\r\n",
        "        random_state=seed\r\n",
        "    )],\r\n",
        "    \"model__n_estimators\":  np.arange(100, 1000, 100),\r\n",
        "    \"model__max_samples\":[0.8, 1.0], \r\n",
        "    \"model__max_features\": [0.8, 1.0],\r\n",
        "    \"model__bootstrap\": [True],\r\n",
        "    \"model__oob_score\": [True],\r\n",
        "}\r\n",
        "scoring = {\r\n",
        "    'AUC': 'roc_auc', \r\n",
        "    'Accuracy': make_scorer(accuracy_score)\r\n",
        "}\r\n",
        "# create the Kfold object\r\n",
        "num_folds = 10\r\n",
        "kfold = StratifiedKFold(n_splits=num_folds, random_state=seed)\r\n",
        "# create the grid search object with the full pipeline as estimator\r\n",
        "n_iter=25\r\n",
        "grid = RandomizedSearchCV(\r\n",
        "    estimator=full_pipeline, \r\n",
        "    param_distributions=param_grid,\r\n",
        "    cv=kfold,\r\n",
        "    scoring=scoring,\r\n",
        "    n_jobs=-1,\r\n",
        "    n_iter=n_iter,\r\n",
        "    refit=\"AUC\"\r\n",
        ")\r\n",
        "                                      \r\n",
        "# fit grid search\r\n",
        "best_bag = grid.fit(X_train,y_train)"
      ],
      "execution_count": 17,
      "outputs": [
        {
          "output_type": "stream",
          "text": [
            "/usr/local/lib/python3.7/dist-packages/sklearn/model_selection/_split.py:296: FutureWarning: Setting a random_state has no effect since shuffle is False. This will raise an error in 0.24. You should leave random_state to its default (None), or set shuffle=True.\n",
            "  FutureWarning\n"
          ],
          "name": "stderr"
        }
      ]
    },
    {
      "cell_type": "code",
      "metadata": {
        "id": "n5bGXxar2YLl",
        "colab": {
          "base_uri": "https://localhost:8080/"
        },
        "outputId": "5fb33bf0-cde4-4b3b-c852-63cdc97e05e6"
      },
      "source": [
        "print(f'Best score: {best_bag.best_score_}')\r\n",
        "print(f'Best model: {best_bag.best_params_}')"
      ],
      "execution_count": 18,
      "outputs": [
        {
          "output_type": "stream",
          "text": [
            "Best score: 0.8751615067989029\n",
            "Best model: {'model__oob_score': True, 'model__n_estimators': 300, 'model__max_samples': 1.0, 'model__max_features': 1.0, 'model__bootstrap': True, 'model': BaggingClassifier(base_estimator=DecisionTreeClassifier(ccp_alpha=0.0,\n",
            "                                                        class_weight=None,\n",
            "                                                        criterion='gini',\n",
            "                                                        max_depth=None,\n",
            "                                                        max_features='auto',\n",
            "                                                        max_leaf_nodes=128,\n",
            "                                                        min_impurity_decrease=0.0,\n",
            "                                                        min_impurity_split=None,\n",
            "                                                        min_samples_leaf=1,\n",
            "                                                        min_samples_split=2,\n",
            "                                                        min_weight_fraction_leaf=0.0,\n",
            "                                                        presort='deprecated',\n",
            "                                                        random_state=108,\n",
            "                                                        splitter='random'),\n",
            "                  bootstrap=True, bootstrap_features=False, max_features=1.0,\n",
            "                  max_samples=1.0, n_estimators=300, n_jobs=None,\n",
            "                  oob_score=True, random_state=108, verbose=0,\n",
            "                  warm_start=False)}\n"
          ],
          "name": "stdout"
        }
      ]
    },
    {
      "cell_type": "code",
      "metadata": {
        "id": "G-8GiOXX2YIZ",
        "colab": {
          "base_uri": "https://localhost:8080/"
        },
        "outputId": "5718bba2-c31a-40a0-de00-ff77cb543335"
      },
      "source": [
        "pred_test = best_bag.predict(X_test)\r\n",
        "pred_train = best_bag.predict(X_train)\r\n",
        "print('Train Accuracy: ', accuracy_score(y_train, pred_train))\r\n",
        "print('Test Accuraccy: ', accuracy_score(y_test, pred_test))\r\n",
        "#print(\"Out-of-Bag Accuracy: \", best_bag.best_params_['model'].oob_score_)\r\n",
        "print('\\nConfusion Matrix:')\r\n",
        "print(confusion_matrix(y_test,pred_test))\r\n",
        "print('\\nClassification Report:')\r\n",
        "print(classification_report(y_test,pred_test))"
      ],
      "execution_count": 21,
      "outputs": [
        {
          "output_type": "stream",
          "text": [
            "Train Accuracy:  0.97375\n",
            "Test Accuraccy:  0.835\n",
            "\n",
            "Confusion Matrix:\n",
            "[[150   4]\n",
            " [ 29  17]]\n",
            "\n",
            "Classification Report:\n",
            "              precision    recall  f1-score   support\n",
            "\n",
            "           0       0.84      0.97      0.90       154\n",
            "           1       0.81      0.37      0.51        46\n",
            "\n",
            "    accuracy                           0.83       200\n",
            "   macro avg       0.82      0.67      0.70       200\n",
            "weighted avg       0.83      0.83      0.81       200\n",
            "\n"
          ],
          "name": "stdout"
        }
      ]
    },
    {
      "cell_type": "code",
      "metadata": {
        "id": "-OiznJ1A2YFf",
        "colab": {
          "base_uri": "https://localhost:8080/",
          "height": 412
        },
        "outputId": "23e063fd-fe57-4669-f208-27db6c046d90"
      },
      "source": [
        "# we pass the preprocessing pipeline as a step to the full pipeline\r\n",
        "full_pipeline_steps = [\r\n",
        "    ('preprocessing_pipeline', preprocessing_pipeline),\r\n",
        "    ('model', RandomForestClassifier(random_state=seed))\r\n",
        "]\r\n",
        "# create the full pipeline object\r\n",
        "full_pipeline = Pipeline(steps=full_pipeline_steps)\r\n",
        "# Create the grid search parameter grid and scoring funcitons\r\n",
        "param_grid = {\r\n",
        "    \"model\": [RandomForestClassifier(random_state=seed)],\r\n",
        "    \"model__max_depth\": np.linspace(1, 32, 32),\r\n",
        "    \"model__n_estimators\": np.arange(100, 1000, 100),\r\n",
        "    \"model__criterion\": [\"gini\",\"entropy\"],\r\n",
        "    \"model__max_leaf_nodes\": [16, 64, 128, 256],\r\n",
        "    \"model__oob_score\": [True],\r\n",
        "}\r\n",
        "scoring = {\r\n",
        "    'AUC': 'roc_auc', \r\n",
        "    'Accuracy': make_scorer(accuracy_score)\r\n",
        "}\r\n",
        "# create the Kfold object\r\n",
        "num_folds = 10\r\n",
        "kfold = StratifiedKFold(n_splits=num_folds, random_state=seed)\r\n",
        "# create the grid search object with the full pipeline as estimator\r\n",
        "n_iter=50\r\n",
        "grid = RandomizedSearchCV(\r\n",
        "    estimator=full_pipeline, \r\n",
        "    param_distributions=param_grid,\r\n",
        "    cv=kfold,\r\n",
        "    scoring=scoring,\r\n",
        "    n_jobs=-1,\r\n",
        "    n_iter=n_iter,\r\n",
        "    refit=\"AUC\"\r\n",
        ")\r\n",
        "# fit grid search\r\n",
        "best_rf = grid.fit(X_train,y_train)"
      ],
      "execution_count": 20,
      "outputs": [
        {
          "output_type": "stream",
          "text": [
            "/usr/local/lib/python3.7/dist-packages/sklearn/model_selection/_split.py:296: FutureWarning: Setting a random_state has no effect since shuffle is False. This will raise an error in 0.24. You should leave random_state to its default (None), or set shuffle=True.\n",
            "  FutureWarning\n"
          ],
          "name": "stderr"
        },
        {
          "output_type": "error",
          "ename": "KeyboardInterrupt",
          "evalue": "ignored",
          "traceback": [
            "\u001b[0;31m---------------------------------------------------------------------------\u001b[0m",
            "\u001b[0;31mKeyboardInterrupt\u001b[0m                         Traceback (most recent call last)",
            "\u001b[0;32m<ipython-input-20-d1ced693fa6e>\u001b[0m in \u001b[0;36m<module>\u001b[0;34m()\u001b[0m\n\u001b[1;32m     34\u001b[0m )\n\u001b[1;32m     35\u001b[0m \u001b[0;31m# fit grid search\u001b[0m\u001b[0;34m\u001b[0m\u001b[0;34m\u001b[0m\u001b[0;34m\u001b[0m\u001b[0m\n\u001b[0;32m---> 36\u001b[0;31m \u001b[0mbest_rf\u001b[0m \u001b[0;34m=\u001b[0m \u001b[0mgrid\u001b[0m\u001b[0;34m.\u001b[0m\u001b[0mfit\u001b[0m\u001b[0;34m(\u001b[0m\u001b[0mX_train\u001b[0m\u001b[0;34m,\u001b[0m\u001b[0my_train\u001b[0m\u001b[0;34m)\u001b[0m\u001b[0;34m\u001b[0m\u001b[0;34m\u001b[0m\u001b[0m\n\u001b[0m",
            "\u001b[0;32m/usr/local/lib/python3.7/dist-packages/sklearn/model_selection/_search.py\u001b[0m in \u001b[0;36mfit\u001b[0;34m(self, X, y, groups, **fit_params)\u001b[0m\n\u001b[1;32m    708\u001b[0m                 \u001b[0;32mreturn\u001b[0m \u001b[0mresults\u001b[0m\u001b[0;34m\u001b[0m\u001b[0;34m\u001b[0m\u001b[0m\n\u001b[1;32m    709\u001b[0m \u001b[0;34m\u001b[0m\u001b[0m\n\u001b[0;32m--> 710\u001b[0;31m             \u001b[0mself\u001b[0m\u001b[0;34m.\u001b[0m\u001b[0m_run_search\u001b[0m\u001b[0;34m(\u001b[0m\u001b[0mevaluate_candidates\u001b[0m\u001b[0;34m)\u001b[0m\u001b[0;34m\u001b[0m\u001b[0;34m\u001b[0m\u001b[0m\n\u001b[0m\u001b[1;32m    711\u001b[0m \u001b[0;34m\u001b[0m\u001b[0m\n\u001b[1;32m    712\u001b[0m         \u001b[0;31m# For multi-metric evaluation, store the best_index_, best_params_ and\u001b[0m\u001b[0;34m\u001b[0m\u001b[0;34m\u001b[0m\u001b[0;34m\u001b[0m\u001b[0m\n",
            "\u001b[0;32m/usr/local/lib/python3.7/dist-packages/sklearn/model_selection/_search.py\u001b[0m in \u001b[0;36m_run_search\u001b[0;34m(self, evaluate_candidates)\u001b[0m\n\u001b[1;32m   1482\u001b[0m         evaluate_candidates(ParameterSampler(\n\u001b[1;32m   1483\u001b[0m             \u001b[0mself\u001b[0m\u001b[0;34m.\u001b[0m\u001b[0mparam_distributions\u001b[0m\u001b[0;34m,\u001b[0m \u001b[0mself\u001b[0m\u001b[0;34m.\u001b[0m\u001b[0mn_iter\u001b[0m\u001b[0;34m,\u001b[0m\u001b[0;34m\u001b[0m\u001b[0;34m\u001b[0m\u001b[0m\n\u001b[0;32m-> 1484\u001b[0;31m             random_state=self.random_state))\n\u001b[0m",
            "\u001b[0;32m/usr/local/lib/python3.7/dist-packages/sklearn/model_selection/_search.py\u001b[0m in \u001b[0;36mevaluate_candidates\u001b[0;34m(candidate_params)\u001b[0m\n\u001b[1;32m    687\u001b[0m                                \u001b[0;32mfor\u001b[0m \u001b[0mparameters\u001b[0m\u001b[0;34m,\u001b[0m \u001b[0;34m(\u001b[0m\u001b[0mtrain\u001b[0m\u001b[0;34m,\u001b[0m \u001b[0mtest\u001b[0m\u001b[0;34m)\u001b[0m\u001b[0;34m\u001b[0m\u001b[0;34m\u001b[0m\u001b[0m\n\u001b[1;32m    688\u001b[0m                                in product(candidate_params,\n\u001b[0;32m--> 689\u001b[0;31m                                           cv.split(X, y, groups)))\n\u001b[0m\u001b[1;32m    690\u001b[0m \u001b[0;34m\u001b[0m\u001b[0m\n\u001b[1;32m    691\u001b[0m                 \u001b[0;32mif\u001b[0m \u001b[0mlen\u001b[0m\u001b[0;34m(\u001b[0m\u001b[0mout\u001b[0m\u001b[0;34m)\u001b[0m \u001b[0;34m<\u001b[0m \u001b[0;36m1\u001b[0m\u001b[0;34m:\u001b[0m\u001b[0;34m\u001b[0m\u001b[0;34m\u001b[0m\u001b[0m\n",
            "\u001b[0;32m/usr/local/lib/python3.7/dist-packages/joblib/parallel.py\u001b[0m in \u001b[0;36m__call__\u001b[0;34m(self, iterable)\u001b[0m\n\u001b[1;32m   1052\u001b[0m \u001b[0;34m\u001b[0m\u001b[0m\n\u001b[1;32m   1053\u001b[0m             \u001b[0;32mwith\u001b[0m \u001b[0mself\u001b[0m\u001b[0;34m.\u001b[0m\u001b[0m_backend\u001b[0m\u001b[0;34m.\u001b[0m\u001b[0mretrieval_context\u001b[0m\u001b[0;34m(\u001b[0m\u001b[0;34m)\u001b[0m\u001b[0;34m:\u001b[0m\u001b[0;34m\u001b[0m\u001b[0;34m\u001b[0m\u001b[0m\n\u001b[0;32m-> 1054\u001b[0;31m                 \u001b[0mself\u001b[0m\u001b[0;34m.\u001b[0m\u001b[0mretrieve\u001b[0m\u001b[0;34m(\u001b[0m\u001b[0;34m)\u001b[0m\u001b[0;34m\u001b[0m\u001b[0;34m\u001b[0m\u001b[0m\n\u001b[0m\u001b[1;32m   1055\u001b[0m             \u001b[0;31m# Make sure that we get a last message telling us we are done\u001b[0m\u001b[0;34m\u001b[0m\u001b[0;34m\u001b[0m\u001b[0;34m\u001b[0m\u001b[0m\n\u001b[1;32m   1056\u001b[0m             \u001b[0melapsed_time\u001b[0m \u001b[0;34m=\u001b[0m \u001b[0mtime\u001b[0m\u001b[0;34m.\u001b[0m\u001b[0mtime\u001b[0m\u001b[0;34m(\u001b[0m\u001b[0;34m)\u001b[0m \u001b[0;34m-\u001b[0m \u001b[0mself\u001b[0m\u001b[0;34m.\u001b[0m\u001b[0m_start_time\u001b[0m\u001b[0;34m\u001b[0m\u001b[0;34m\u001b[0m\u001b[0m\n",
            "\u001b[0;32m/usr/local/lib/python3.7/dist-packages/joblib/parallel.py\u001b[0m in \u001b[0;36mretrieve\u001b[0;34m(self)\u001b[0m\n\u001b[1;32m    931\u001b[0m             \u001b[0;32mtry\u001b[0m\u001b[0;34m:\u001b[0m\u001b[0;34m\u001b[0m\u001b[0;34m\u001b[0m\u001b[0m\n\u001b[1;32m    932\u001b[0m                 \u001b[0;32mif\u001b[0m \u001b[0mgetattr\u001b[0m\u001b[0;34m(\u001b[0m\u001b[0mself\u001b[0m\u001b[0;34m.\u001b[0m\u001b[0m_backend\u001b[0m\u001b[0;34m,\u001b[0m \u001b[0;34m'supports_timeout'\u001b[0m\u001b[0;34m,\u001b[0m \u001b[0;32mFalse\u001b[0m\u001b[0;34m)\u001b[0m\u001b[0;34m:\u001b[0m\u001b[0;34m\u001b[0m\u001b[0;34m\u001b[0m\u001b[0m\n\u001b[0;32m--> 933\u001b[0;31m                     \u001b[0mself\u001b[0m\u001b[0;34m.\u001b[0m\u001b[0m_output\u001b[0m\u001b[0;34m.\u001b[0m\u001b[0mextend\u001b[0m\u001b[0;34m(\u001b[0m\u001b[0mjob\u001b[0m\u001b[0;34m.\u001b[0m\u001b[0mget\u001b[0m\u001b[0;34m(\u001b[0m\u001b[0mtimeout\u001b[0m\u001b[0;34m=\u001b[0m\u001b[0mself\u001b[0m\u001b[0;34m.\u001b[0m\u001b[0mtimeout\u001b[0m\u001b[0;34m)\u001b[0m\u001b[0;34m)\u001b[0m\u001b[0;34m\u001b[0m\u001b[0;34m\u001b[0m\u001b[0m\n\u001b[0m\u001b[1;32m    934\u001b[0m                 \u001b[0;32melse\u001b[0m\u001b[0;34m:\u001b[0m\u001b[0;34m\u001b[0m\u001b[0;34m\u001b[0m\u001b[0m\n\u001b[1;32m    935\u001b[0m                     \u001b[0mself\u001b[0m\u001b[0;34m.\u001b[0m\u001b[0m_output\u001b[0m\u001b[0;34m.\u001b[0m\u001b[0mextend\u001b[0m\u001b[0;34m(\u001b[0m\u001b[0mjob\u001b[0m\u001b[0;34m.\u001b[0m\u001b[0mget\u001b[0m\u001b[0;34m(\u001b[0m\u001b[0;34m)\u001b[0m\u001b[0;34m)\u001b[0m\u001b[0;34m\u001b[0m\u001b[0;34m\u001b[0m\u001b[0m\n",
            "\u001b[0;32m/usr/local/lib/python3.7/dist-packages/joblib/_parallel_backends.py\u001b[0m in \u001b[0;36mwrap_future_result\u001b[0;34m(future, timeout)\u001b[0m\n\u001b[1;32m    540\u001b[0m         AsyncResults.get from multiprocessing.\"\"\"\n\u001b[1;32m    541\u001b[0m         \u001b[0;32mtry\u001b[0m\u001b[0;34m:\u001b[0m\u001b[0;34m\u001b[0m\u001b[0;34m\u001b[0m\u001b[0m\n\u001b[0;32m--> 542\u001b[0;31m             \u001b[0;32mreturn\u001b[0m \u001b[0mfuture\u001b[0m\u001b[0;34m.\u001b[0m\u001b[0mresult\u001b[0m\u001b[0;34m(\u001b[0m\u001b[0mtimeout\u001b[0m\u001b[0;34m=\u001b[0m\u001b[0mtimeout\u001b[0m\u001b[0;34m)\u001b[0m\u001b[0;34m\u001b[0m\u001b[0;34m\u001b[0m\u001b[0m\n\u001b[0m\u001b[1;32m    543\u001b[0m         \u001b[0;32mexcept\u001b[0m \u001b[0mCfTimeoutError\u001b[0m \u001b[0;32mas\u001b[0m \u001b[0me\u001b[0m\u001b[0;34m:\u001b[0m\u001b[0;34m\u001b[0m\u001b[0;34m\u001b[0m\u001b[0m\n\u001b[1;32m    544\u001b[0m             \u001b[0;32mraise\u001b[0m \u001b[0mTimeoutError\u001b[0m \u001b[0;32mfrom\u001b[0m \u001b[0me\u001b[0m\u001b[0;34m\u001b[0m\u001b[0;34m\u001b[0m\u001b[0m\n",
            "\u001b[0;32m/usr/lib/python3.7/concurrent/futures/_base.py\u001b[0m in \u001b[0;36mresult\u001b[0;34m(self, timeout)\u001b[0m\n\u001b[1;32m    428\u001b[0m                 \u001b[0;32mreturn\u001b[0m \u001b[0mself\u001b[0m\u001b[0;34m.\u001b[0m\u001b[0m__get_result\u001b[0m\u001b[0;34m(\u001b[0m\u001b[0;34m)\u001b[0m\u001b[0;34m\u001b[0m\u001b[0;34m\u001b[0m\u001b[0m\n\u001b[1;32m    429\u001b[0m \u001b[0;34m\u001b[0m\u001b[0m\n\u001b[0;32m--> 430\u001b[0;31m             \u001b[0mself\u001b[0m\u001b[0;34m.\u001b[0m\u001b[0m_condition\u001b[0m\u001b[0;34m.\u001b[0m\u001b[0mwait\u001b[0m\u001b[0;34m(\u001b[0m\u001b[0mtimeout\u001b[0m\u001b[0;34m)\u001b[0m\u001b[0;34m\u001b[0m\u001b[0;34m\u001b[0m\u001b[0m\n\u001b[0m\u001b[1;32m    431\u001b[0m \u001b[0;34m\u001b[0m\u001b[0m\n\u001b[1;32m    432\u001b[0m             \u001b[0;32mif\u001b[0m \u001b[0mself\u001b[0m\u001b[0;34m.\u001b[0m\u001b[0m_state\u001b[0m \u001b[0;32min\u001b[0m \u001b[0;34m[\u001b[0m\u001b[0mCANCELLED\u001b[0m\u001b[0;34m,\u001b[0m \u001b[0mCANCELLED_AND_NOTIFIED\u001b[0m\u001b[0;34m]\u001b[0m\u001b[0;34m:\u001b[0m\u001b[0;34m\u001b[0m\u001b[0;34m\u001b[0m\u001b[0m\n",
            "\u001b[0;32m/usr/lib/python3.7/threading.py\u001b[0m in \u001b[0;36mwait\u001b[0;34m(self, timeout)\u001b[0m\n\u001b[1;32m    294\u001b[0m         \u001b[0;32mtry\u001b[0m\u001b[0;34m:\u001b[0m    \u001b[0;31m# restore state no matter what (e.g., KeyboardInterrupt)\u001b[0m\u001b[0;34m\u001b[0m\u001b[0;34m\u001b[0m\u001b[0m\n\u001b[1;32m    295\u001b[0m             \u001b[0;32mif\u001b[0m \u001b[0mtimeout\u001b[0m \u001b[0;32mis\u001b[0m \u001b[0;32mNone\u001b[0m\u001b[0;34m:\u001b[0m\u001b[0;34m\u001b[0m\u001b[0;34m\u001b[0m\u001b[0m\n\u001b[0;32m--> 296\u001b[0;31m                 \u001b[0mwaiter\u001b[0m\u001b[0;34m.\u001b[0m\u001b[0macquire\u001b[0m\u001b[0;34m(\u001b[0m\u001b[0;34m)\u001b[0m\u001b[0;34m\u001b[0m\u001b[0;34m\u001b[0m\u001b[0m\n\u001b[0m\u001b[1;32m    297\u001b[0m                 \u001b[0mgotit\u001b[0m \u001b[0;34m=\u001b[0m \u001b[0;32mTrue\u001b[0m\u001b[0;34m\u001b[0m\u001b[0;34m\u001b[0m\u001b[0m\n\u001b[1;32m    298\u001b[0m             \u001b[0;32melse\u001b[0m\u001b[0;34m:\u001b[0m\u001b[0;34m\u001b[0m\u001b[0;34m\u001b[0m\u001b[0m\n",
            "\u001b[0;31mKeyboardInterrupt\u001b[0m: "
          ]
        }
      ]
    },
    {
      "cell_type": "code",
      "metadata": {
        "id": "GvkwkIOB2YC_"
      },
      "source": [
        "print(f'Best score: {best_rf.best_score_}')\r\n",
        "print(f'Best model: {best_rf.best_params_}')"
      ],
      "execution_count": null,
      "outputs": []
    },
    {
      "cell_type": "code",
      "metadata": {
        "id": "ul_x85am2YAd"
      },
      "source": [
        "pred_test = best_rf.predict(X_test)\r\n",
        "pred_train = best_rf.predict(X_train)\r\n",
        "print('Train Accuracy: ', accuracy_score(y_train, pred_train))\r\n",
        "print('Test Accuraccy: ', accuracy_score(y_test, pred_test))\r\n",
        "print(\"Out-of-Bag Accuracy: \", best_rf.best_params_['model'].oob_score_)\r\n",
        "print('\\nConfusion Matrix:')\r\n",
        "print(confusion_matrix(y_test,pred_test))\r\n",
        "print('\\nClassification Report:')\r\n",
        "print(classification_report(y_test,pred_test))"
      ],
      "execution_count": null,
      "outputs": []
    },
    {
      "cell_type": "code",
      "metadata": {
        "id": "Wm5BMdS62X9y"
      },
      "source": [
        "# lets get the random forest model configuration and feature names\r\n",
        "rf_model = best_rf.best_params_['model']\r\n",
        "features = np.array(X_train.columns)\r\n",
        "# Transforming the test data.\r\n",
        "new_X_test = preprocessing_pipeline.fit_transform(X_test)\r\n",
        "new_X_test = pd.DataFrame(new_X_test, columns=X_test.columns)\r\n",
        "# get the predicitons from the random forest object\r\n",
        "y_pred = rf_model.predict(new_X_test)\r\n",
        "# get the feature importances\r\n",
        "importances = rf_model.feature_importances_\r\n",
        "# sort the indexes\r\n",
        "sorted_index = np.argsort(importances)\r\n",
        "sorted_importances = importances[sorted_index]\r\n",
        "sorted_features = features[sorted_index]\r\n",
        "# plot the explained variance using a barplot\r\n",
        "fig, ax = plt.subplots()\r\n",
        "ax.barh(sorted_features , sorted_importances)\r\n",
        "ax.set_xlabel('Importances')\r\n",
        "ax.set_ylabel('Features')"
      ],
      "execution_count": null,
      "outputs": []
    },
    {
      "cell_type": "code",
      "metadata": {
        "id": "sZVba-dy2X7a"
      },
      "source": [
        "import eli5\r\n",
        "# lets get the random forest model configuration and feature names\r\n",
        "rf_model = best_rf.best_params_['model']\r\n",
        "features = np.array(X_train.columns)\r\n",
        "eli5.show_weights(rf_model, feature_names=features)"
      ],
      "execution_count": null,
      "outputs": []
    },
    {
      "cell_type": "code",
      "metadata": {
        "id": "55y5-yJV2X4x"
      },
      "source": [
        "# predicting a person earns less than 50k/year (true negative)\r\n",
        "index = 4\r\n",
        "print('Actual Label:', y_test.iloc[index])\r\n",
        "print('Predicted Label:', y_pred[index])\r\n",
        "eli5.explain_prediction(rf_model, new_X_test.iloc[index], feature_names=features)\r\n",
        "# predicting a person earns more than 50k/year (true positive)\r\n",
        "index = 7\r\n",
        "print('Actual Label:', y_test.iloc[index])\r\n",
        "print('Predicted Label:', y_pred[index])\r\n",
        "eli5.explain_prediction(rf_model, new_X_test.iloc[index], feature_names=features)"
      ],
      "execution_count": null,
      "outputs": []
    },
    {
      "cell_type": "code",
      "metadata": {
        "id": "abh_5b_o2X2F"
      },
      "source": [
        "import shap\r\n",
        "shap.initjs()\r\n",
        "# Create the explainer object\r\n",
        "explainer = shap.TreeExplainer(rf_model)\r\n",
        "print('Expected Value:', explainer.expected_value)\r\n",
        "# get the shap values from the explainer\r\n",
        "shap_values = explainer.shap_values(new_X_test)"
      ],
      "execution_count": null,
      "outputs": []
    },
    {
      "cell_type": "code",
      "metadata": {
        "id": "X_liOYt82Xzu"
      },
      "source": [
        "# predicting a person earns less than 50k/year (true negative)\r\n",
        "shap.force_plot(explainer.expected_value[0],\r\n",
        "                shap_values[0][4], X_test.iloc[4])\r\n",
        "# predicting a person earns more than 50k/year (true positive)\r\n",
        "shap.force_plot(explainer.expected_value[1],\r\n",
        "                shap_values[1][7], X_test.iloc[7])"
      ],
      "execution_count": null,
      "outputs": []
    },
    {
      "cell_type": "code",
      "metadata": {
        "id": "UgZ6tArh2XxD"
      },
      "source": [
        "shap.force_plot(explainer.expected_value[0],\r\n",
        "                shap_values[0][:1000,:], X_test.iloc[:1000,:])"
      ],
      "execution_count": null,
      "outputs": []
    },
    {
      "cell_type": "code",
      "metadata": {
        "id": "uTngmHG92Xut"
      },
      "source": [
        "shap.summary_plot(shap_values, X_test)"
      ],
      "execution_count": null,
      "outputs": []
    },
    {
      "cell_type": "markdown",
      "metadata": {
        "id": "r3ZW8wDc2zUc"
      },
      "source": [
        "# XGBoost"
      ]
    },
    {
      "cell_type": "code",
      "metadata": {
        "id": "QglW2alK5f3X"
      },
      "source": [
        "income"
      ],
      "execution_count": null,
      "outputs": []
    },
    {
      "cell_type": "code",
      "metadata": {
        "id": "TxhJcwBN6Mjv"
      },
      "source": [
        "# Custom Transformer that extracts columns passed as argument\r\n",
        "class FeatureSelector(BaseEstimator, TransformerMixin):\r\n",
        "    #Class Constructor \r\n",
        "    def __init__(self, feature_names):\r\n",
        "        self.feature_names = feature_names\r\n",
        "    #Return self nothing else to do here    \r\n",
        "    def fit(self, X, y = None):\r\n",
        "        return self\r\n",
        "    #Method that describes what we need this transformer to do\r\n",
        "    def transform(self, X, y = None):\r\n",
        "        return X[self.feature_names]\r\n",
        "\r\n",
        "# converts certain features to categorical\r\n",
        "class CategoricalTransformer( BaseEstimator, TransformerMixin ):\r\n",
        "    #Class constructor method that takes a boolean as its argument\r\n",
        "    def __init__(self, new_features=True):\r\n",
        "        self.new_features = new_features\r\n",
        "    #Return self nothing else to do here    \r\n",
        "    def fit( self, X, y = None ):\r\n",
        "        return self\r\n",
        "    #Transformer method we wrote for this transformer \r\n",
        "    def transform(self, X , y = None ):\r\n",
        "        df = X.copy()\r\n",
        "        if self.new_features:\r\n",
        "            # Treat ? workclass as unknown\r\n",
        "            df['workclass']= df['workclass'].replace('?','Unknown') \r\n",
        "            # Two many category level, convert just US and Non-US\r\n",
        "            df.loc[df['native-country']!=' United-States','native-country'] = 'non_usa'\r\n",
        "            df.loc[df['native-country']==' United-States','native-country'] = 'usa'\r\n",
        "        # convert columns to categorical\r\n",
        "        for name in df.columns.to_list():\r\n",
        "            col = pd.Categorical(df[name])\r\n",
        "            df[name] = col.codes\r\n",
        "        # returns numpy array\r\n",
        "        print(df.columns)\r\n",
        "        return df"
      ],
      "execution_count": 43,
      "outputs": []
    },
    {
      "cell_type": "code",
      "metadata": {
        "id": "WgN-8Dg4h5kC"
      },
      "source": [
        "# load the dataset\r\n",
        "#income = pd.read_csv(\"income.csv\")\r\n",
        "# Create the X feature matrix and the y target vector\r\n",
        "X = income.drop(labels=[\"high_income\", 'fnlwgt'], axis=1)\r\n",
        "#X = income.drop(labels=[\"high_income\"], axis=1)\r\n",
        "y = income[\"high_income\"]\r\n",
        "# the only step necessary to be done outside of pipeline\r\n",
        "# convert the target column to categorical\r\n",
        "col = pd.Categorical(y)\r\n",
        "y = pd.Series(col.codes)"
      ],
      "execution_count": 44,
      "outputs": []
    },
    {
      "cell_type": "code",
      "metadata": {
        "id": "fOypi5lk61X2"
      },
      "source": [
        "# get the categorical feature names\r\n",
        "categorical_features = X.select_dtypes(\"object\").columns.to_list()\r\n",
        "# get the numerical feature names\r\n",
        "numerical_features = X.select_dtypes(\"int64\").columns.to_list()\r\n",
        "\r\n",
        "# create the steps for the categorical pipeline\r\n",
        "categorical_steps = [\r\n",
        "    ('cat_selector', FeatureSelector(categorical_features)),\r\n",
        "    ('cat_transformer', CategoricalTransformer())\r\n",
        "]\r\n",
        "\r\n",
        "# create the steps for the numerical pipeline\r\n",
        "numerical_steps = [\r\n",
        "    ('num_selector', FeatureSelector(numerical_features)),\r\n",
        "    ('std_scaler', StandardScaler()),\r\n",
        "]\r\n",
        "\r\n",
        "# create the 2 pipelines with the respective steps\r\n",
        "categorical_pipeline = Pipeline(categorical_steps)\r\n",
        "numerical_pipeline = Pipeline(numerical_steps)\r\n",
        "\r\n",
        "pipeline_list = [\r\n",
        "    ('categorical_pipeline', categorical_pipeline),\r\n",
        "    ('numerical_pipeline', numerical_pipeline)\r\n",
        "]\r\n",
        "# Combining the 2 pieplines horizontally into one full pipeline \r\n",
        "preprocessing_pipeline =FeatureUnion(transformer_list=pipeline_list)"
      ],
      "execution_count": 45,
      "outputs": []
    },
    {
      "cell_type": "code",
      "metadata": {
        "id": "qLpKx5Pi84qH"
      },
      "source": [
        "#X.shape, clean_X.shape"
      ],
      "execution_count": 46,
      "outputs": []
    },
    {
      "cell_type": "code",
      "metadata": {
        "id": "PsSgyyi1AzVI"
      },
      "source": [
        "#clean_X[0]"
      ],
      "execution_count": 47,
      "outputs": []
    },
    {
      "cell_type": "code",
      "metadata": {
        "id": "BgaUslGA2Xr4",
        "colab": {
          "base_uri": "https://localhost:8080/"
        },
        "outputId": "10a50068-7898-4d1e-8a48-72acb6ca6fde"
      },
      "source": [
        "seed = 100\r\n",
        "\r\n",
        "# validate the preprocessing pipeline by passing data through it\r\n",
        "clean_X = preprocessing_pipeline.fit_transform(X)\r\n",
        "\r\n",
        "clean_X_df = pd.DataFrame(clean_X, columns=X.columns)\r\n",
        "# split the clean_X into train and test sets\r\n",
        "X_train, X_test, y_train, y_test = train_test_split(clean_X, y, test_size=0.20, random_state=seed, shuffle=True, stratify=y)"
      ],
      "execution_count": 48,
      "outputs": [
        {
          "output_type": "stream",
          "text": [
            "Index(['workclass', 'education', 'marital-status', 'occupation',\n",
            "       'relationship', 'race', 'sex', 'native-country'],\n",
            "      dtype='object')\n"
          ],
          "name": "stdout"
        }
      ]
    },
    {
      "cell_type": "code",
      "metadata": {
        "colab": {
          "base_uri": "https://localhost:8080/"
        },
        "id": "_fgLxnk92XpT",
        "outputId": "c31aea25-6d79-4223-d5eb-425e0c60c291"
      },
      "source": [
        "import time\r\n",
        "from xgboost import XGBClassifier\r\n",
        "# create a default XGBoost classifier\r\n",
        "model = XGBClassifier(n_estimators=500, random_state=seed)\r\n",
        "# define the eval set and metric\r\n",
        "eval_set = [(X_train, y_train), (X_test, y_test)]\r\n",
        "eval_metric = [\"auc\",\"error\"]\r\n",
        "# fit the model\r\n",
        "%time model.fit(X_train, y_train, eval_metric=eval_metric, eval_set=eval_set, verbose=False)"
      ],
      "execution_count": 49,
      "outputs": [
        {
          "output_type": "stream",
          "text": [
            "CPU times: user 363 ms, sys: 23.9 ms, total: 387 ms\n",
            "Wall time: 386 ms\n"
          ],
          "name": "stdout"
        },
        {
          "output_type": "execute_result",
          "data": {
            "text/plain": [
              "XGBClassifier(base_score=0.5, booster='gbtree', colsample_bylevel=1,\n",
              "              colsample_bynode=1, colsample_bytree=1, gamma=0,\n",
              "              learning_rate=0.1, max_delta_step=0, max_depth=3,\n",
              "              min_child_weight=1, missing=None, n_estimators=500, n_jobs=1,\n",
              "              nthread=None, objective='binary:logistic', random_state=100,\n",
              "              reg_alpha=0, reg_lambda=1, scale_pos_weight=1, seed=None,\n",
              "              silent=None, subsample=1, verbosity=1)"
            ]
          },
          "metadata": {
            "tags": []
          },
          "execution_count": 49
        }
      ]
    },
    {
      "cell_type": "code",
      "metadata": {
        "colab": {
          "base_uri": "https://localhost:8080/"
        },
        "id": "z_ga-qDX239H",
        "outputId": "8c12c832-f98e-4b73-d65b-02ee84a2adb7"
      },
      "source": [
        "# final model assessment\r\n",
        "pred_test = model.predict(X_test)\r\n",
        "pred_train = model.predict(X_train)\r\n",
        "print('Train Accuracy: ', accuracy_score(y_train, pred_train))\r\n",
        "print('Test Accuraccy: ', accuracy_score(y_test, pred_test))\r\n",
        "print('Classification Report:')\r\n",
        "print(classification_report(y_test,pred_test))"
      ],
      "execution_count": 50,
      "outputs": [
        {
          "output_type": "stream",
          "text": [
            "Train Accuracy:  0.96\n",
            "Test Accuraccy:  0.815\n",
            "Classification Report:\n",
            "              precision    recall  f1-score   support\n",
            "\n",
            "           0       0.87      0.89      0.88       154\n",
            "           1       0.60      0.57      0.58        46\n",
            "\n",
            "    accuracy                           0.81       200\n",
            "   macro avg       0.74      0.73      0.73       200\n",
            "weighted avg       0.81      0.81      0.81       200\n",
            "\n"
          ],
          "name": "stdout"
        }
      ]
    },
    {
      "cell_type": "code",
      "metadata": {
        "colab": {
          "base_uri": "https://localhost:8080/",
          "height": 372
        },
        "id": "UHc51n3v235y",
        "outputId": "f0ced933-a081-469f-d48e-0ed9704fa869"
      },
      "source": [
        "# retrieve performance metrics\r\n",
        "results = model.evals_result()\r\n",
        "epochs = len(results['validation_0']['error'])\r\n",
        "x_axis = range(0, epochs)\r\n",
        "fig, ax = plt.subplots(1, 2, figsize=(15,5))\r\n",
        "# plot auc\r\n",
        "ax[0].plot(x_axis, results['validation_0']['auc'], label='Train')\r\n",
        "ax[0].plot(x_axis, results['validation_1']['auc'], label='Test')\r\n",
        "ax[0].legend()\r\n",
        "ax[0].set_title('XGBoost AUC-ROC')\r\n",
        "ax[0].set_ylabel('AUC-ROC')\r\n",
        "ax[0].set_xlabel('N estimators')\r\n",
        "# plot classification error\r\n",
        "ax[1].plot(x_axis, results['validation_0']['error'], label='Train')\r\n",
        "ax[1].plot(x_axis, results['validation_1']['error'], label='Test')\r\n",
        "ax[1].legend()\r\n",
        "ax[1].set_title('XGBoost Classification Error')\r\n",
        "ax[1].set_ylabel('Classification Error')\r\n",
        "ax[1].set_xlabel('N estimators')\r\n",
        "plt.show()\r\n",
        "plt.tight_layout()"
      ],
      "execution_count": 51,
      "outputs": [
        {
          "output_type": "display_data",
          "data": {
            "image/png": "[encoded data removed]",
            "text/plain": [
              "<Figure size 1080x360 with 2 Axes>"
            ]
          },
          "metadata": {
            "tags": []
          }
        },
        {
          "output_type": "display_data",
          "data": {
            "text/plain": [
              "<Figure size 432x288 with 0 Axes>"
            ]
          },
          "metadata": {
            "tags": []
          }
        }
      ]
    },
    {
      "cell_type": "code",
      "metadata": {
        "colab": {
          "base_uri": "https://localhost:8080/"
        },
        "id": "LKLUiJL2233R",
        "outputId": "5b8076dd-206b-4933-e38d-f33daa6cb531"
      },
      "source": [
        "# create a default XGBoost classifier\r\n",
        "model = XGBClassifier(\r\n",
        "    random_state=seed, \r\n",
        "    eval_metric=[\"error\", \"auc\"]\r\n",
        ")\r\n",
        "# Create the grid search parameter grid and scoring funcitons\r\n",
        "param_grid = {\r\n",
        "    \"learning_rate\": [0.1, 0.01],\r\n",
        "    \"colsample_bytree\": [0.6, 0.8, 1.0],\r\n",
        "    \"subsample\": [0.6, 0.8, 1.0],\r\n",
        "    \"max_depth\": [2, 3, 4],\r\n",
        "    \"n_estimators\": [100, 200, 300, 400],\r\n",
        "    \"reg_lambda\": [1, 1.5, 2],\r\n",
        "    \"gamma\": [0, 0.1, 0.3],\r\n",
        "}\r\n",
        "scoring = {\r\n",
        "    'AUC': 'roc_auc', \r\n",
        "    'Accuracy': make_scorer(accuracy_score)\r\n",
        "}\r\n",
        "# create the Kfold object\r\n",
        "num_folds = 10\r\n",
        "kfold = StratifiedKFold(n_splits=num_folds, random_state=seed)\r\n",
        "# create the grid search object\r\n",
        "n_iter=50\r\n",
        "grid = RandomizedSearchCV(\r\n",
        "    estimator=model, \r\n",
        "    param_distributions=param_grid,\r\n",
        "    cv=kfold,\r\n",
        "    scoring=scoring,\r\n",
        "    n_jobs=-1,\r\n",
        "    n_iter=n_iter,\r\n",
        "    refit=\"AUC\",\r\n",
        ")\r\n",
        "# fit grid search\r\n",
        "%time best_model = grid.fit(X_train,y_train)"
      ],
      "execution_count": 52,
      "outputs": [
        {
          "output_type": "stream",
          "text": [
            "/usr/local/lib/python3.7/dist-packages/sklearn/model_selection/_split.py:296: FutureWarning: Setting a random_state has no effect since shuffle is False. This will raise an error in 0.24. You should leave random_state to its default (None), or set shuffle=True.\n",
            "  FutureWarning\n"
          ],
          "name": "stderr"
        },
        {
          "output_type": "stream",
          "text": [
            "CPU times: user 1.31 s, sys: 54.6 ms, total: 1.36 s\n",
            "Wall time: 49.1 s\n"
          ],
          "name": "stdout"
        }
      ]
    },
    {
      "cell_type": "code",
      "metadata": {
        "id": "TqZKve0A2302",
        "colab": {
          "base_uri": "https://localhost:8080/"
        },
        "outputId": "b391adb2-f8df-4fdb-ec8e-8ff78f02a75c"
      },
      "source": [
        "print(f'Best score: {best_model.best_score_}')\r\n",
        "print(f'Best model: {best_model.best_params_}')"
      ],
      "execution_count": 53,
      "outputs": [
        {
          "output_type": "stream",
          "text": [
            "Best score: 0.9016449494527787\n",
            "Best model: {'subsample': 1.0, 'reg_lambda': 1.5, 'n_estimators': 100, 'max_depth': 2, 'learning_rate': 0.1, 'gamma': 0, 'colsample_bytree': 0.6}\n"
          ],
          "name": "stdout"
        }
      ]
    },
    {
      "cell_type": "code",
      "metadata": {
        "id": "-6LsS8Tz23yl",
        "colab": {
          "base_uri": "https://localhost:8080/"
        },
        "outputId": "9de757fc-3e8a-4074-bc44-02a39238894c"
      },
      "source": [
        "pred_test = best_model.predict(X_test)\r\n",
        "pred_train = best_model.predict(X_train)\r\n",
        "print('Train Accuracy: ', accuracy_score(y_train, pred_train))\r\n",
        "print('Test Accuraccy: ', accuracy_score(y_test, pred_test))\r\n",
        "print('\\nConfusion Matrix:')\r\n",
        "print(confusion_matrix(y_test,pred_test))\r\n",
        "print('\\nClassification Report:')\r\n",
        "print(classification_report(y_test,pred_test))"
      ],
      "execution_count": 54,
      "outputs": [
        {
          "output_type": "stream",
          "text": [
            "Train Accuracy:  0.86625\n",
            "Test Accuraccy:  0.82\n",
            "\n",
            "Confusion Matrix:\n",
            "[[142  12]\n",
            " [ 24  22]]\n",
            "\n",
            "Classification Report:\n",
            "              precision    recall  f1-score   support\n",
            "\n",
            "           0       0.86      0.92      0.89       154\n",
            "           1       0.65      0.48      0.55        46\n",
            "\n",
            "    accuracy                           0.82       200\n",
            "   macro avg       0.75      0.70      0.72       200\n",
            "weighted avg       0.81      0.82      0.81       200\n",
            "\n"
          ],
          "name": "stdout"
        }
      ]
    },
    {
      "cell_type": "code",
      "metadata": {
        "id": "WD0t9JOW23vy"
      },
      "source": [
        ""
      ],
      "execution_count": 40,
      "outputs": []
    },
    {
      "cell_type": "markdown",
      "metadata": {
        "id": "HRJF0AlNhCS5"
      },
      "source": [
        "## Leverage GPU"
      ]
    },
    {
      "cell_type": "code",
      "metadata": {
        "colab": {
          "base_uri": "https://localhost:8080/"
        },
        "id": "LaTrd-21hEfj",
        "outputId": "b8b988ff-9abc-42f4-ba16-8d0f008ecaff"
      },
      "source": [
        "# create a default XGBoost classifier\r\n",
        "# model = XGBClassifier(\r\n",
        "#     random_state=seed, \r\n",
        "#     eval_metric=[\"error\", \"auc\"]\r\n",
        "# )\r\n",
        "\r\n",
        "model = XGBClassifier(\r\n",
        "    tree_method = \"gpu_hist\", \r\n",
        "    random_state=seed, \r\n",
        "    eval_metric=[\"error\", \"auc\"]\r\n",
        ")\r\n",
        "\r\n",
        "# Create the grid search parameter grid and scoring funcitons\r\n",
        "param_grid = {\r\n",
        "    \"learning_rate\": [0.1, 0.01],\r\n",
        "    \"colsample_bytree\": [0.6, 0.8, 1.0],\r\n",
        "    \"subsample\": [0.6, 0.8, 1.0],\r\n",
        "    \"max_depth\": [2, 3, 4],\r\n",
        "    \"n_estimators\": [100, 200, 300, 400],\r\n",
        "    \"reg_lambda\": [1, 1.5, 2],\r\n",
        "    \"gamma\": [0, 0.1, 0.3],\r\n",
        "}\r\n",
        "scoring = {\r\n",
        "    'AUC': 'roc_auc', \r\n",
        "    'Accuracy': make_scorer(accuracy_score)\r\n",
        "}\r\n",
        "# create the Kfold object\r\n",
        "num_folds = 10\r\n",
        "kfold = StratifiedKFold(n_splits=num_folds, random_state=seed)\r\n",
        "# create the grid search object\r\n",
        "n_iter=50\r\n",
        "grid = RandomizedSearchCV(\r\n",
        "    estimator=model, \r\n",
        "    param_distributions=param_grid,\r\n",
        "    cv=kfold,\r\n",
        "    scoring=scoring,\r\n",
        "    n_jobs=-1,\r\n",
        "    n_iter=n_iter,\r\n",
        "    refit=\"AUC\",\r\n",
        ")\r\n",
        "# fit grid search\r\n",
        "%time best_model_gpu = grid.fit(X_train,y_train)"
      ],
      "execution_count": 55,
      "outputs": [
        {
          "output_type": "stream",
          "text": [
            "/usr/local/lib/python3.7/dist-packages/sklearn/model_selection/_split.py:296: FutureWarning: Setting a random_state has no effect since shuffle is False. This will raise an error in 0.24. You should leave random_state to its default (None), or set shuffle=True.\n",
            "  FutureWarning\n"
          ],
          "name": "stderr"
        },
        {
          "output_type": "stream",
          "text": [
            "CPU times: user 2.76 s, sys: 914 ms, total: 3.67 s\n",
            "Wall time: 13min 4s\n"
          ],
          "name": "stdout"
        }
      ]
    },
    {
      "cell_type": "code",
      "metadata": {
        "colab": {
          "base_uri": "https://localhost:8080/",
          "height": 186
        },
        "id": "uIcj417uhEb2",
        "outputId": "07ab318a-e9bb-43c9-d499-61e7b131f9c9"
      },
      "source": [
        "print(f'Best score: {best_model_gpu.best_score_}')\r\n",
        "print(f'Best model: {best_model_gpu.best_params_}')"
      ],
      "execution_count": 1,
      "outputs": [
        {
          "output_type": "error",
          "ename": "NameError",
          "evalue": "ignored",
          "traceback": [
            "\u001b[0;31m---------------------------------------------------------------------------\u001b[0m",
            "\u001b[0;31mNameError\u001b[0m                                 Traceback (most recent call last)",
            "\u001b[0;32m<ipython-input-1-41f9db80b81a>\u001b[0m in \u001b[0;36m<module>\u001b[0;34m()\u001b[0m\n\u001b[0;32m----> 1\u001b[0;31m \u001b[0mprint\u001b[0m\u001b[0;34m(\u001b[0m\u001b[0;34mf'Best score: {best_model_gpu.best_score_}'\u001b[0m\u001b[0;34m)\u001b[0m\u001b[0;34m\u001b[0m\u001b[0;34m\u001b[0m\u001b[0m\n\u001b[0m\u001b[1;32m      2\u001b[0m \u001b[0mprint\u001b[0m\u001b[0;34m(\u001b[0m\u001b[0;34mf'Best model: {best_model_gpu.best_params_}'\u001b[0m\u001b[0;34m)\u001b[0m\u001b[0;34m\u001b[0m\u001b[0;34m\u001b[0m\u001b[0m\n",
            "\u001b[0;31mNameError\u001b[0m: name 'best_model_gpu' is not defined"
          ]
        }
      ]
    },
    {
      "cell_type": "code",
      "metadata": {
        "colab": {
          "base_uri": "https://localhost:8080/"
        },
        "id": "nileG-PDhEZf",
        "outputId": "4f52eab5-89c5-44fc-a5b1-2e7393c3ad90"
      },
      "source": [
        "pred_test = best_model_gpu.predict(X_test)\r\n",
        "pred_train = best_model_gpu.predict(X_train)\r\n",
        "print('Train Accuracy: ', accuracy_score(y_train, pred_train))\r\n",
        "print('Test Accuraccy: ', accuracy_score(y_test, pred_test))\r\n",
        "print('\\nConfusion Matrix:')\r\n",
        "print(confusion_matrix(y_test,pred_test))\r\n",
        "print('\\nClassification Report:')\r\n",
        "print(classification_report(y_test,pred_test))"
      ],
      "execution_count": 57,
      "outputs": [
        {
          "output_type": "stream",
          "text": [
            "Train Accuracy:  0.89875\n",
            "Test Accuraccy:  0.82\n",
            "\n",
            "Confusion Matrix:\n",
            "[[138  16]\n",
            " [ 20  26]]\n",
            "\n",
            "Classification Report:\n",
            "              precision    recall  f1-score   support\n",
            "\n",
            "           0       0.87      0.90      0.88       154\n",
            "           1       0.62      0.57      0.59        46\n",
            "\n",
            "    accuracy                           0.82       200\n",
            "   macro avg       0.75      0.73      0.74       200\n",
            "weighted avg       0.81      0.82      0.82       200\n",
            "\n"
          ],
          "name": "stdout"
        }
      ]
    },
    {
      "cell_type": "code",
      "metadata": {
        "id": "VsomOiMehEW2"
      },
      "source": [
        "model = XGBClassifier(\r\n",
        "    tree_method = \"gpu_hist\", \r\n",
        "    random_state=seed, \r\n",
        "    eval_metric=[\"error\", \"auc\"]\r\n",
        ")"
      ],
      "execution_count": 58,
      "outputs": []
    },
    {
      "cell_type": "code",
      "metadata": {
        "id": "mMQZJQQShEUL"
      },
      "source": [
        ""
      ],
      "execution_count": 58,
      "outputs": []
    },
    {
      "cell_type": "code",
      "metadata": {
        "colab": {
          "base_uri": "https://localhost:8080/",
          "height": 242
        },
        "id": "DR1Jr-KE23tc",
        "outputId": "779e5e2e-a9d9-4fec-a2dd-b9b9fce4d600"
      },
      "source": [
        "# store the winning model in a new variable\r\n",
        "xgc = best_model_gpu.best_estimator_\r\n",
        "# saving the feature names to the model\r\n",
        "xgc.get_booster().feature_names = X.columns.to_list()\r\n",
        "# Create the feature importances plot\r\n",
        "fig, ax = plt.subplots(1, 3, figsize=(15,5))\r\n",
        "# plot importances with feature weight\r\n",
        "xgb.plot_importance(\r\n",
        "    booster=xgc, \r\n",
        "    importance_type='weight',\r\n",
        "    title='Feature Weight',\r\n",
        "    show_values=False,\r\n",
        "    height=0.5,\r\n",
        "    ax=ax[0],\r\n",
        ")\r\n",
        "# plot importances with split mean gain\r\n",
        "xgb.plot_importance(\r\n",
        "    booster=xgc,\r\n",
        "    importance_type='gain',\r\n",
        "    title='Split Mean Gain',\r\n",
        "    show_values=False,\r\n",
        "    height=0.5,\r\n",
        "    ax=ax[1]\r\n",
        ")\r\n",
        "# plot importances with sample coverage\r\n",
        "xgb.plot_importance(\r\n",
        "    xgc,\r\n",
        "    importance_type='cover',\r\n",
        "    title='Sample Coverage',\r\n",
        "    show_values=False,\r\n",
        "    height=0.5,\r\n",
        "    ax=ax[2]\r\n",
        ")\r\n",
        "plt.tight_layout()\r\n",
        "plt.show()"
      ],
      "execution_count": 2,
      "outputs": [
        {
          "output_type": "error",
          "ename": "NameError",
          "evalue": "ignored",
          "traceback": [
            "\u001b[0;31m---------------------------------------------------------------------------\u001b[0m",
            "\u001b[0;31mNameError\u001b[0m                                 Traceback (most recent call last)",
            "\u001b[0;32m<ipython-input-2-e9e7f5aba5cb>\u001b[0m in \u001b[0;36m<module>\u001b[0;34m()\u001b[0m\n\u001b[1;32m      1\u001b[0m \u001b[0;31m# store the winning model in a new variable\u001b[0m\u001b[0;34m\u001b[0m\u001b[0;34m\u001b[0m\u001b[0;34m\u001b[0m\u001b[0m\n\u001b[0;32m----> 2\u001b[0;31m \u001b[0mxgc\u001b[0m \u001b[0;34m=\u001b[0m \u001b[0mbest_model_gpu\u001b[0m\u001b[0;34m.\u001b[0m\u001b[0mbest_estimator_\u001b[0m\u001b[0;34m\u001b[0m\u001b[0;34m\u001b[0m\u001b[0m\n\u001b[0m\u001b[1;32m      3\u001b[0m \u001b[0;31m# saving the feature names to the model\u001b[0m\u001b[0;34m\u001b[0m\u001b[0;34m\u001b[0m\u001b[0;34m\u001b[0m\u001b[0m\n\u001b[1;32m      4\u001b[0m \u001b[0mxgc\u001b[0m\u001b[0;34m.\u001b[0m\u001b[0mget_booster\u001b[0m\u001b[0;34m(\u001b[0m\u001b[0;34m)\u001b[0m\u001b[0;34m.\u001b[0m\u001b[0mfeature_names\u001b[0m \u001b[0;34m=\u001b[0m \u001b[0mX\u001b[0m\u001b[0;34m.\u001b[0m\u001b[0mcolumns\u001b[0m\u001b[0;34m.\u001b[0m\u001b[0mto_list\u001b[0m\u001b[0;34m(\u001b[0m\u001b[0;34m)\u001b[0m\u001b[0;34m\u001b[0m\u001b[0;34m\u001b[0m\u001b[0m\n\u001b[1;32m      5\u001b[0m \u001b[0;31m# Create the feature importances plot\u001b[0m\u001b[0;34m\u001b[0m\u001b[0;34m\u001b[0m\u001b[0;34m\u001b[0m\u001b[0m\n",
            "\u001b[0;31mNameError\u001b[0m: name 'best_model_gpu' is not defined"
          ]
        }
      ]
    },
    {
      "cell_type": "code",
      "metadata": {
        "id": "1jjVRtq8qiK4"
      },
      "source": [
        "# Create the feature importances plot\r\n",
        "fig, ax = plt.subplots(figsize=(20,20))\r\n",
        "# plot a decision tree from the booster\r\n",
        "xgb.plot_tree(booster=xgc, num_trees=0, ax=ax, rankdir='LR')\r\n",
        "plt.tight_layout()\r\n",
        "plt.show()"
      ],
      "execution_count": null,
      "outputs": []
    },
    {
      "cell_type": "code",
      "metadata": {
        "id": "41KgaFt43KGn"
      },
      "source": [
        ""
      ],
      "execution_count": null,
      "outputs": []
    }
  ]
}